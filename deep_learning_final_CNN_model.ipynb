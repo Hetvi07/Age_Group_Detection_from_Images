{
  "nbformat": 4,
  "nbformat_minor": 0,
  "metadata": {
    "colab": {
      "name": "deep_learning_final_CNN_model.ipynb",
      "provenance": [],
      "collapsed_sections": [],
      "machine_shape": "hm",
      "include_colab_link": true
    },
    "kernelspec": {
      "name": "python3",
      "display_name": "Python 3"
    },
    "accelerator": "GPU"
  },
  "cells": [
    {
      "cell_type": "markdown",
      "metadata": {
        "id": "view-in-github",
        "colab_type": "text"
      },
      "source": [
        "<a href=\"https://colab.research.google.com/github/Hetvi07/Age_Group_Detection_From_Images/blob/master/deep_learning_final_CNN_model.ipynb\" target=\"_parent\"><img src=\"https://colab.research.google.com/assets/colab-badge.svg\" alt=\"Open In Colab\"/></a>"
      ]
    },
    {
      "cell_type": "code",
      "metadata": {
        "id": "ndBDuhivUu7C",
        "colab_type": "code",
        "colab": {
          "base_uri": "https://localhost:8080/",
          "height": 125
        },
        "outputId": "8a307351-480f-4080-c26b-f36c8763de26"
      },
      "source": [
        "#@title Mount Google Drive {display-mode: \"form\"}\n",
        "\n",
        "# This code will be hidden when the notebook is loaded.\n",
        "\n",
        "from google.colab import drive\n",
        "drive.mount('/content/drive')"
      ],
      "execution_count": null,
      "outputs": [
        {
          "output_type": "stream",
          "text": [
            "Go to this URL in a browser: https://accounts.google.com/o/oauth2/auth?client_id=947318989803-6bn6qk8qdgf4n4g3pfee6491hc0brc4i.apps.googleusercontent.com&redirect_uri=urn%3aietf%3awg%3aoauth%3a2.0%3aoob&scope=email%20https%3a%2f%2fwww.googleapis.com%2fauth%2fdocs.test%20https%3a%2f%2fwww.googleapis.com%2fauth%2fdrive%20https%3a%2f%2fwww.googleapis.com%2fauth%2fdrive.photos.readonly%20https%3a%2f%2fwww.googleapis.com%2fauth%2fpeopleapi.readonly&response_type=code\n",
            "\n",
            "Enter your authorization code:\n",
            "··········\n",
            "Mounted at /content/drive\n"
          ],
          "name": "stdout"
        }
      ]
    },
    {
      "cell_type": "code",
      "metadata": {
        "id": "_kTFrNNPU7wP",
        "colab_type": "code",
        "colab": {}
      },
      "source": [
        "# Imports\n",
        "# Please refer to requirements.txt for a full list of all libraries and their versions used in this project.\n",
        "\n",
        "import pandas as pd\n",
        "import numpy as np\n",
        "import matplotlib.pyplot as plt\n",
        "\n",
        "import cv2\n",
        "import os\n",
        "from zipfile import ZipFile\n",
        "import time\n",
        "from datetime import datetime\n",
        "import itertools\n",
        "\n",
        "from sklearn.model_selection import train_test_split\n",
        "from sklearn.metrics import confusion_matrix\n",
        "\n",
        "import tensorflow as tf\n",
        "from tensorflow.keras.models import Sequential\n",
        "from tensorflow.keras.layers import Dense\n",
        "from tensorflow.keras.layers import Conv2D, AveragePooling2D, GlobalAveragePooling2D\n",
        "from tensorflow.keras import utils\n",
        "from tensorflow.keras.callbacks import TensorBoard, ModelCheckpoint\n",
        "\n",
        "# Setting random seeds to reduce the amount of randomness in the neural net weights and results.\n",
        "# The results may still not be exactly reproducible.\n",
        "np.random.seed(42)\n",
        "tf.random.set_seed(42)"
      ],
      "execution_count": null,
      "outputs": []
    },
    {
      "cell_type": "code",
      "metadata": {
        "id": "FXc8h48VtsX6",
        "colab_type": "code",
        "colab": {
          "base_uri": "https://localhost:8080/",
          "height": 35
        },
        "outputId": "81751095-a08d-40aa-e241-dc78e59f3cdd"
      },
      "source": [
        "# Checking the installed version of TensorFlow.\n",
        "# The code in this notebook was written using TensorFlow version 2.2.0.\n",
        "\n",
        "tf.__version__"
      ],
      "execution_count": null,
      "outputs": [
        {
          "output_type": "execute_result",
          "data": {
            "application/vnd.google.colaboratory.intrinsic+json": {
              "type": "string"
            },
            "text/plain": [
              "'2.3.0'"
            ]
          },
          "metadata": {
            "tags": []
          },
          "execution_count": 6
        }
      ]
    },
    {
      "cell_type": "markdown",
      "metadata": {
        "id": "uAuTEWUiOgUF",
        "colab_type": "text"
      },
      "source": [
        "**Ensure that the Runtime Type for this notebook is set to GPU**.\n",
        "\n",
        "Run the code below to check for GPU. If a GPU device is not found, change the runtime type under *Runtime* &#10141; *Change runtime type* &#10141; *Hardware accelerator* &#10141; *GPU* and run the notebook from the beginning again."
      ]
    },
    {
      "cell_type": "code",
      "metadata": {
        "id": "ggkatHAQU75X",
        "colab_type": "code",
        "colab": {
          "base_uri": "https://localhost:8080/",
          "height": 34
        },
        "outputId": "5358dc69-2480-461a-ca94-bf7390e259c9"
      },
      "source": [
        "# Testing to ensure GPU is being utilized.\n",
        "\n",
        "device_name = tf.test.gpu_device_name()\n",
        "if device_name != '/device:GPU:0':\n",
        "    raise SystemError('GPU device not found')\n",
        "print('Found GPU at: {}'.format(device_name))"
      ],
      "execution_count": null,
      "outputs": [
        {
          "output_type": "stream",
          "text": [
            "Found GPU at: /device:GPU:0\n"
          ],
          "name": "stdout"
        }
      ]
    },
    {
      "cell_type": "markdown",
      "metadata": {
        "id": "jmgbfqAKOsxR",
        "colab_type": "text"
      },
      "source": [
        "## Deep Learning: Building Final CNN Model"
      ]
    },
    {
      "cell_type": "markdown",
      "metadata": {
        "id": "RxEzjKuOPr5n",
        "colab_type": "text"
      },
      "source": [
        "Below is the **summary of all the CNN models built so far** (in previous notebook ***4_deep_learning_CNN_modelling.ipynb***).\n",
        "\n",
        "![summary_table.png](https://drive.google.com/uc?export=view&id=1D6iYAbVaQFDo2ek4Bsj00BjxwviHZvlw)\n",
        "\n",
        "After understanding the effects of all the improvement and optimization techniques on the CNN model performance, **the final CNN model can now be defined and trained**:\n",
        "1. with **grayscale images** instead of RGB coloured images.\n",
        "2. with **augmented training dataset (234,400 images)** instead of original training dataset (23,440 images).\n",
        "3. for **60 epochs**.\n",
        "4. for **re-distributed classes of age-ranges**.\n",
        "5. with an **optimized architecture**, comprising of:\n",
        "- an input *Conv2D* layer (with 32 filters) paired with an *AveragePooling2D* layer,\n",
        "- 3 pairs of *Conv2D* (with 64, 128 & 256 filters) and *AveragePooling2D* layers,\n",
        "- a *GlobalAveragePooling2D* layer,\n",
        "- 1 *Dense* layer with 132 nodes, and\n",
        "- an output *Dense* layer with 7 nodes."
      ]
    },
    {
      "cell_type": "code",
      "metadata": {
        "id": "tCN57I6AU7_g",
        "colab_type": "code",
        "colab": {
          "base_uri": "https://localhost:8080/",
          "height": 34
        },
        "outputId": "4409e3a1-a511-42fb-a824-24bae5225948"
      },
      "source": [
        "# Unzipping the dataset file combined_faces.zip\n",
        "\n",
        "combined_faces_zip_path = \"/content/drive/My Drive/Faces_datasets/zipped_datasets/combined_faces.zip\"\n",
        "\n",
        "with ZipFile(combined_faces_zip_path, 'r') as myzip:\n",
        "    myzip.extractall()\n",
        "    print('Done unzipping combined_faces.zip')"
      ],
      "execution_count": null,
      "outputs": [
        {
          "output_type": "stream",
          "text": [
            "Done unzipping combined_faces.zip\n"
          ],
          "name": "stdout"
        }
      ]
    },
    {
      "cell_type": "code",
      "metadata": {
        "id": "q61d9-wxU8Ea",
        "colab_type": "code",
        "colab": {
          "base_uri": "https://localhost:8080/",
          "height": 34
        },
        "outputId": "5ac205b3-8368-4bd3-efc2-3c5fe6929ea1"
      },
      "source": [
        "# Unzipping the dataset file combined_faces_train_augmented.zip\n",
        "\n",
        "combined_faces_zip_path = \"/content/drive/My Drive/Faces_datasets/zipped_datasets/combined_faces_train_augmented.zip\"\n",
        "\n",
        "with ZipFile(combined_faces_zip_path, 'r') as myzip:\n",
        "    myzip.extractall()\n",
        "    print('Done unzipping combined_faces_train_augmented.zip')"
      ],
      "execution_count": null,
      "outputs": [
        {
          "output_type": "stream",
          "text": [
            "Done unzipping combined_faces_train_augmented.zip\n"
          ],
          "name": "stdout"
        }
      ]
    },
    {
      "cell_type": "code",
      "metadata": {
        "id": "Yu50xj5jU8I6",
        "colab_type": "code",
        "colab": {}
      },
      "source": [
        "# Importing the augmented training dataset and testing dataset to create tensors of images using the filename paths.\n",
        "\n",
        "train_aug_df = pd.read_csv(\"/content/drive/My Drive/Age_classification_with_faces/input_output/images_filenames_labels_train_augmented.csv\")\n",
        "test_df = pd.read_csv(\"/content/drive/My Drive/Age_classification_with_faces/input_output/images_filenames_labels_test.csv\")"
      ],
      "execution_count": null,
      "outputs": []
    },
    {
      "cell_type": "code",
      "metadata": {
        "id": "TgRflp79U8N1",
        "colab_type": "code",
        "colab": {
          "base_uri": "https://localhost:8080/",
          "height": 204
        },
        "outputId": "4c3d92c9-d1cf-4ed7-e548-b605b6db5381"
      },
      "source": [
        "# Dropping the age column since classes of age-ranges have been re-distributed from 11 to 7 classes(train).\n",
        "\n",
        "train_aug_df.drop(columns=['target'], inplace=True)\n",
        "train_aug_df.head()"
      ],
      "execution_count":null,
      "outputs": [
        {
          "output_type": "execute_result",
          "data": {
            "text/html": [
              "<div>\n",
              "<style scoped>\n",
              "    .dataframe tbody tr th:only-of-type {\n",
              "        vertical-align: middle;\n",
              "    }\n",
              "\n",
              "    .dataframe tbody tr th {\n",
              "        vertical-align: top;\n",
              "    }\n",
              "\n",
              "    .dataframe thead th {\n",
              "        text-align: right;\n",
              "    }\n",
              "</style>\n",
              "<table border=\"1\" class=\"dataframe\">\n",
              "  <thead>\n",
              "    <tr style=\"text-align: right;\">\n",
              "      <th></th>\n",
              "      <th>filename</th>\n",
              "      <th>age</th>\n",
              "    </tr>\n",
              "  </thead>\n",
              "  <tbody>\n",
              "    <tr>\n",
              "      <th>0</th>\n",
              "      <td>/content/content/combined_faces_train_augmente...</td>\n",
              "      <td>43</td>\n",
              "    </tr>\n",
              "    <tr>\n",
              "      <th>1</th>\n",
              "      <td>/content/content/combined_faces_train_augmente...</td>\n",
              "      <td>71</td>\n",
              "    </tr>\n",
              "    <tr>\n",
              "      <th>2</th>\n",
              "      <td>/content/content/combined_faces_train_augmente...</td>\n",
              "      <td>6</td>\n",
              "    </tr>\n",
              "    <tr>\n",
              "      <th>3</th>\n",
              "      <td>/content/content/combined_faces_train_augmente...</td>\n",
              "      <td>18</td>\n",
              "    </tr>\n",
              "    <tr>\n",
              "      <th>4</th>\n",
              "      <td>/content/content/combined_faces_train_augmente...</td>\n",
              "      <td>25</td>\n",
              "    </tr>\n",
              "  </tbody>\n",
              "</table>\n",
              "</div>"
            ],
            "text/plain": [
              "                                            filename  age\n",
              "0  /content/content/combined_faces_train_augmente...   43\n",
              "1  /content/content/combined_faces_train_augmente...   71\n",
              "2  /content/content/combined_faces_train_augmente...    6\n",
              "3  /content/content/combined_faces_train_augmente...   18\n",
              "4  /content/content/combined_faces_train_augmente...   25"
            ]
          },
          "metadata": {
            "tags": []
          },
          "execution_count": 7
        }
      ]
    },
    {
      "cell_type": "code",
      "metadata": {
        "id": "BcFPQNl7U8SZ",
        "colab_type": "code",
        "colab": {
          "base_uri": "https://localhost:8080/",
          "height": 204
        },
        "outputId": "fadee106-caec-47e1-e8a1-cc28a26964ef"
      },
      "source": [
        "# Dropping the age column since classes of age-ranges have been re-distributed from 11 to 7 classes(test).\n",
        "\n",
        "test_df.drop(columns=['target'], inplace=True)\n",
        "test_df.head()"
      ],
      "execution_count": null,
      "outputs": [
        {
          "output_type": "execute_result",
          "data": {
            "text/html": [
              "<div>\n",
              "<style scoped>\n",
              "    .dataframe tbody tr th:only-of-type {\n",
              "        vertical-align: middle;\n",
              "    }\n",
              "\n",
              "    .dataframe tbody tr th {\n",
              "        vertical-align: top;\n",
              "    }\n",
              "\n",
              "    .dataframe thead th {\n",
              "        text-align: right;\n",
              "    }\n",
              "</style>\n",
              "<table border=\"1\" class=\"dataframe\">\n",
              "  <thead>\n",
              "    <tr style=\"text-align: right;\">\n",
              "      <th></th>\n",
              "      <th>filename</th>\n",
              "      <th>age</th>\n",
              "    </tr>\n",
              "  </thead>\n",
              "  <tbody>\n",
              "    <tr>\n",
              "      <th>0</th>\n",
              "      <td>/content/content/combined_faces/8_163.jpg</td>\n",
              "      <td>8</td>\n",
              "    </tr>\n",
              "    <tr>\n",
              "      <th>1</th>\n",
              "      <td>/content/content/combined_faces/38_66.jpg</td>\n",
              "      <td>38</td>\n",
              "    </tr>\n",
              "    <tr>\n",
              "      <th>2</th>\n",
              "      <td>/content/content/combined_faces/40_177.jpg</td>\n",
              "      <td>40</td>\n",
              "    </tr>\n",
              "    <tr>\n",
              "      <th>3</th>\n",
              "      <td>/content/content/combined_faces/36_267.jpg</td>\n",
              "      <td>36</td>\n",
              "    </tr>\n",
              "    <tr>\n",
              "      <th>4</th>\n",
              "      <td>/content/content/combined_faces/8_349.jpg</td>\n",
              "      <td>8</td>\n",
              "    </tr>\n",
              "  </tbody>\n",
              "</table>\n",
              "</div>"
            ],
            "text/plain": [
              "                                     filename  age\n",
              "0   /content/content/combined_faces/8_163.jpg    8\n",
              "1   /content/content/combined_faces/38_66.jpg   38\n",
              "2  /content/content/combined_faces/40_177.jpg   40\n",
              "3  /content/content/combined_faces/36_267.jpg   36\n",
              "4   /content/content/combined_faces/8_349.jpg    8"
            ]
          },
          "metadata": {
            "tags": []
          },
          "execution_count": 8
        }
      ]
    },
    {
      "cell_type": "code",
      "metadata": {
        "id": "5D3RBtwwU8W1",
        "colab_type": "code",
        "colab": {
          "base_uri": "https://localhost:8080/",
          "height": 34
        },
        "outputId": "aba98734-d970-496e-95e3-5642731f77f4"
      },
      "source": [
        "train_aug_df.shape"
      ],
      "execution_count": null,
      "outputs": [
        {
          "output_type": "execute_result",
          "data": {
            "text/plain": [
              "(234400, 2)"
            ]
          },
          "metadata": {
            "tags": []
          },
          "execution_count": 9
        }
      ]
    },
    {
      "cell_type": "code",
      "metadata": {
        "id": "J4Qz1-9mU8bN",
        "colab_type": "code",
        "colab": {
          "base_uri": "https://localhost:8080/",
          "height": 34
        },
        "outputId": "b3dd8df0-f1e2-4317-a721-1d98da398f9e"
      },
      "source": [
        "test_df.shape"
      ],
      "execution_count": null,
      "outputs": [
        {
          "output_type": "execute_result",
          "data": {
            "text/plain": [
              "(10046, 2)"
            ]
          },
          "metadata": {
            "tags": []
          },
          "execution_count": 10
        }
      ]
    },
    {
      "cell_type": "code",
      "metadata": {
        "id": "QqlcD7x6Yjcd",
        "colab_type": "code",
        "colab": {}
      },
      "source": [
        "# Defining a function to return the class labels corresponding to the re-distributed 7 age-ranges.\n",
        "\n",
        "def class_labels_reassign(age):\n",
        "\n",
        "    if 1 <= age <= 2:\n",
        "        return 0\n",
        "    elif 3 <= age <= 9:\n",
        "        return 1\n",
        "    elif 10 <= age <= 20:\n",
        "        return 2\n",
        "    elif 21 <= age <= 27:\n",
        "        return 3\n",
        "    elif 28 <= age <= 45:\n",
        "        return 4\n",
        "    elif 46 <= age <= 65:\n",
        "        return 5\n",
        "    else:\n",
        "        return 6"
      ],
      "execution_count": null,
      "outputs": []
    },
    {
      "cell_type": "code",
      "metadata": {
        "id": "LROsGcIaYjVr",
        "colab_type": "code",
        "colab": {}
      },
      "source": [
        "train_aug_df['target'] = train_aug_df['age'].map(class_labels_reassign)\n",
        "test_df['target'] = test_df['age'].map(class_labels_reassign)"
      ],
      "execution_count": null,
      "outputs": []
    },
    {
      "cell_type": "code",
      "metadata": {
        "id": "j51hK9VIaxo1",
        "colab_type": "code",
        "colab": {
          "base_uri": "https://localhost:8080/",
          "height": 204
        },
        "outputId": "57cad90c-dab7-42a1-c368-1d498fa0f7e1"
      },
      "source": [
        "train_aug_df.head()"
      ],
      "execution_count": null,
      "outputs": [
        {
          "output_type": "execute_result",
          "data": {
            "text/html": [
              "<div>\n",
              "<style scoped>\n",
              "    .dataframe tbody tr th:only-of-type {\n",
              "        vertical-align: middle;\n",
              "    }\n",
              "\n",
              "    .dataframe tbody tr th {\n",
              "        vertical-align: top;\n",
              "    }\n",
              "\n",
              "    .dataframe thead th {\n",
              "        text-align: right;\n",
              "    }\n",
              "</style>\n",
              "<table border=\"1\" class=\"dataframe\">\n",
              "  <thead>\n",
              "    <tr style=\"text-align: right;\">\n",
              "      <th></th>\n",
              "      <th>filename</th>\n",
              "      <th>age</th>\n",
              "      <th>target</th>\n",
              "    </tr>\n",
              "  </thead>\n",
              "  <tbody>\n",
              "    <tr>\n",
              "      <th>0</th>\n",
              "      <td>/content/content/combined_faces_train_augmente...</td>\n",
              "      <td>43</td>\n",
              "      <td>4</td>\n",
              "    </tr>\n",
              "    <tr>\n",
              "      <th>1</th>\n",
              "      <td>/content/content/combined_faces_train_augmente...</td>\n",
              "      <td>71</td>\n",
              "      <td>6</td>\n",
              "    </tr>\n",
              "    <tr>\n",
              "      <th>2</th>\n",
              "      <td>/content/content/combined_faces_train_augmente...</td>\n",
              "      <td>6</td>\n",
              "      <td>1</td>\n",
              "    </tr>\n",
              "    <tr>\n",
              "      <th>3</th>\n",
              "      <td>/content/content/combined_faces_train_augmente...</td>\n",
              "      <td>18</td>\n",
              "      <td>2</td>\n",
              "    </tr>\n",
              "    <tr>\n",
              "      <th>4</th>\n",
              "      <td>/content/content/combined_faces_train_augmente...</td>\n",
              "      <td>25</td>\n",
              "      <td>3</td>\n",
              "    </tr>\n",
              "  </tbody>\n",
              "</table>\n",
              "</div>"
            ],
            "text/plain": [
              "                                            filename  age  target\n",
              "0  /content/content/combined_faces_train_augmente...   43       4\n",
              "1  /content/content/combined_faces_train_augmente...   71       6\n",
              "2  /content/content/combined_faces_train_augmente...    6       1\n",
              "3  /content/content/combined_faces_train_augmente...   18       2\n",
              "4  /content/content/combined_faces_train_augmente...   25       3"
            ]
          },
          "metadata": {
            "tags": []
          },
          "execution_count": 13
        }
      ]
    },
    {
      "cell_type": "code",
      "metadata": {
        "id": "csZb53SYaxgu",
        "colab_type": "code",
        "colab": {
          "base_uri": "https://localhost:8080/",
          "height": 204
        },
        "outputId": "7a9d2df6-32ac-4d66-f62e-4c4226baabfd"
      },
      "source": [
        "test_df.head()"
      ],
      "execution_count": null,
      "outputs": [
        {
          "output_type": "execute_result",
          "data": {
            "text/html": [
              "<div>\n",
              "<style scoped>\n",
              "    .dataframe tbody tr th:only-of-type {\n",
              "        vertical-align: middle;\n",
              "    }\n",
              "\n",
              "    .dataframe tbody tr th {\n",
              "        vertical-align: top;\n",
              "    }\n",
              "\n",
              "    .dataframe thead th {\n",
              "        text-align: right;\n",
              "    }\n",
              "</style>\n",
              "<table border=\"1\" class=\"dataframe\">\n",
              "  <thead>\n",
              "    <tr style=\"text-align: right;\">\n",
              "      <th></th>\n",
              "      <th>filename</th>\n",
              "      <th>age</th>\n",
              "      <th>target</th>\n",
              "    </tr>\n",
              "  </thead>\n",
              "  <tbody>\n",
              "    <tr>\n",
              "      <th>0</th>\n",
              "      <td>/content/content/combined_faces/8_163.jpg</td>\n",
              "      <td>8</td>\n",
              "      <td>1</td>\n",
              "    </tr>\n",
              "    <tr>\n",
              "      <th>1</th>\n",
              "      <td>/content/content/combined_faces/38_66.jpg</td>\n",
              "      <td>38</td>\n",
              "      <td>4</td>\n",
              "    </tr>\n",
              "    <tr>\n",
              "      <th>2</th>\n",
              "      <td>/content/content/combined_faces/40_177.jpg</td>\n",
              "      <td>40</td>\n",
              "      <td>4</td>\n",
              "    </tr>\n",
              "    <tr>\n",
              "      <th>3</th>\n",
              "      <td>/content/content/combined_faces/36_267.jpg</td>\n",
              "      <td>36</td>\n",
              "      <td>4</td>\n",
              "    </tr>\n",
              "    <tr>\n",
              "      <th>4</th>\n",
              "      <td>/content/content/combined_faces/8_349.jpg</td>\n",
              "      <td>8</td>\n",
              "      <td>1</td>\n",
              "    </tr>\n",
              "  </tbody>\n",
              "</table>\n",
              "</div>"
            ],
            "text/plain": [
              "                                     filename  age  target\n",
              "0   /content/content/combined_faces/8_163.jpg    8       1\n",
              "1   /content/content/combined_faces/38_66.jpg   38       4\n",
              "2  /content/content/combined_faces/40_177.jpg   40       4\n",
              "3  /content/content/combined_faces/36_267.jpg   36       4\n",
              "4   /content/content/combined_faces/8_349.jpg    8       1"
            ]
          },
          "metadata": {
            "tags": []
          },
          "execution_count": 14
        }
      ]
    },
    {
      "cell_type": "code",
      "metadata": {
        "id": "jWpwyHjzYjQN",
        "colab_type": "code",
        "colab": {
          "base_uri": "https://localhost:8080/",
          "height": 153
        },
        "outputId": "d2ef2f1b-4ad2-4151-8354-d96167be93ff"
      },
      "source": [
        "train_aug_df['target'].value_counts(normalize=True)"
      ],
      "execution_count": null,
      "outputs": [
        {
          "output_type": "execute_result",
          "data": {
            "text/plain": [
              "4    0.279394\n",
              "3    0.199829\n",
              "5    0.167193\n",
              "0    0.095307\n",
              "2    0.093643\n",
              "1    0.084087\n",
              "6    0.080546\n",
              "Name: target, dtype: float64"
            ]
          },
          "metadata": {
            "tags": []
          },
          "execution_count": 15
        }
      ]
    },
    {
      "cell_type": "code",
      "metadata": {
        "id": "KUS5oAuRavFJ",
        "colab_type": "code",
        "colab": {
          "base_uri": "https://localhost:8080/",
          "height": 153
        },
        "outputId": "98e44551-6e66-4907-8874-4218ac00a981"
      },
      "source": [
        "test_df['target'].value_counts(normalize=True)"
      ],
      "execution_count": null,
      "outputs": [
        {
          "output_type": "execute_result",
          "data": {
            "text/plain": [
              "4    0.279415\n",
              "3    0.199781\n",
              "5    0.167131\n",
              "0    0.095361\n",
              "2    0.093669\n",
              "1    0.084113\n",
              "6    0.080530\n",
              "Name: target, dtype: float64"
            ]
          },
          "metadata": {
            "tags": []
          },
          "execution_count": 16
        }
      ]
    },
    {
      "cell_type": "code",
      "metadata": {
        "id": "sJSY34ShavL_",
        "colab_type": "code",
        "colab": {}
      },
      "source": [
        "# Converting the filenames and target class labels into lists for augmented train and test datasets.\n",
        "\n",
        "train_aug_filenames_list = list(train_aug_df['filename'])\n",
        "train_aug_labels_list = list(train_aug_df['target'])\n",
        "\n",
        "test_filenames_list = list(test_df['filename'])\n",
        "test_labels_list = list(test_df['target'])"
      ],
      "execution_count": null,
      "outputs": []
    },
    {
      "cell_type": "code",
      "metadata": {
        "id": "S7ye8s5savP5",
        "colab_type": "code",
        "colab": {}
      },
      "source": [
        "# Creating tensorflow constants of filenames and labels for augmented train and test datasets from the lists defined above.\n",
        "\n",
        "train_aug_filenames_tensor = tf.constant(train_aug_filenames_list)\n",
        "train_aug_labels_tensor = tf.constant(train_aug_labels_list)\n",
        "\n",
        "test_filenames_tensor = tf.constant(test_filenames_list)\n",
        "test_labels_tensor = tf.constant(test_labels_list)"
      ],
      "execution_count": null,
      "outputs": []
    },
    {
      "cell_type": "code",
      "metadata": {
        "id": "4ALPko3Xavbo",
        "colab_type": "code",
        "colab": {}
      },
      "source": [
        "# Defining a function to read the image, decode the image from given tensor and one-hot encode the image label class.\n",
        "# Changing the channels para in tf.io.decode_jpeg from 3 to 1 changes the output images from RGB coloured to grayscale.\n",
        "\n",
        "num_classes = 7\n",
        "\n",
        "def _parse_function(filename, label):\n",
        "    \n",
        "    image_string = tf.io.read_file(filename)\n",
        "    image_decoded = tf.io.decode_jpeg(image_string, channels=1)    # channels=1 to convert to grayscale, channels=3 to convert to RGB.\n",
        "    # image_resized = tf.image.resize(image_decoded, [200, 200])\n",
        "    label = tf.one_hot(label, num_classes)\n",
        "\n",
        "    return image_decoded, label"
      ],
      "execution_count": null,
      "outputs": []
    },
    {
      "cell_type": "code",
      "metadata": {
        "id": "OTyXZ2tUavZh",
        "colab_type": "code",
        "colab": {}
      },
      "source": [
        "# Getting the dataset ready for the neural network.\n",
        "# Using the tensor vectors defined above, accessing the images in the dataset and passing them through the function defined above.\n",
        "\n",
        "train_aug_dataset = tf.data.Dataset.from_tensor_slices((train_aug_filenames_tensor, train_aug_labels_tensor))\n",
        "train_aug_dataset = train_aug_dataset.map(_parse_function)\n",
        "# train_aug_dataset = train_aug_dataset.repeat(3)\n",
        "train_aug_dataset = train_aug_dataset.batch(512)    # Same as batch_size hyperparameter in model.fit() below.\n",
        "\n",
        "test_dataset = tf.data.Dataset.from_tensor_slices((test_filenames_tensor, test_labels_tensor))\n",
        "test_dataset = test_dataset.map(_parse_function)\n",
        "# test_dataset = test_dataset.repeat(3)\n",
        "test_dataset = test_dataset.batch(512)    # Same as batch_size hyperparameter in model.fit() below."
      ],
      "execution_count": null,
      "outputs": []
    },
    {
      "cell_type": "code",
      "metadata": {
        "id": "kcW44JspavWb",
        "colab_type": "code",
        "colab": {
          "base_uri": "https://localhost:8080/",
          "height": 527
        },
        "outputId": "71eb87a3-703c-4a2a-e06b-e5f141929662"
      },
      "source": [
        "# Defining the architecture of the sequential neural network.\n",
        "\n",
        "final_cnn = Sequential()\n",
        "\n",
        "# Input layer with 32 filters, followed by an AveragePooling2D layer.\n",
        "final_cnn.add(Conv2D(filters=32, kernel_size=3, activation='relu', input_shape=(200, 200, 1)))    # 3rd dim = 1 for grayscale images.\n",
        "final_cnn.add(AveragePooling2D(pool_size=(2,2)))\n",
        "\n",
        "# Three Conv2D layers with filters increasing by a factor of 2 for every successive Conv2D layer.\n",
        "final_cnn.add(Conv2D(filters=64, kernel_size=3, activation='relu'))\n",
        "final_cnn.add(AveragePooling2D(pool_size=(2,2)))\n",
        "\n",
        "final_cnn.add(Conv2D(filters=128, kernel_size=3, activation='relu'))\n",
        "final_cnn.add(AveragePooling2D(pool_size=(2,2)))\n",
        "\n",
        "final_cnn.add(Conv2D(filters=256, kernel_size=3, activation='relu'))\n",
        "final_cnn.add(AveragePooling2D(pool_size=(2,2)))\n",
        "\n",
        "# A GlobalAveragePooling2D layer before going into Dense layers below.\n",
        "# GlobalAveragePooling2D layer gives no. of outputs equal to no. of filters in last Conv2D layer above (256).\n",
        "final_cnn.add(GlobalAveragePooling2D())\n",
        "\n",
        "# One Dense layer with 132 nodes so as to taper down the no. of nodes from no. of outputs of GlobalAveragePooling2D layer above towards no. of nodes in output layer below (7).\n",
        "final_cnn.add(Dense(132, activation='relu'))\n",
        "\n",
        "# Output layer with 7 nodes (equal to the no. of classes).\n",
        "final_cnn.add(Dense(7, activation='softmax'))\n",
        "\n",
        "final_cnn.summary()"
      ],
      "execution_count": null,
      "outputs": [
        {
          "output_type": "stream",
          "text": [
            "Model: \"sequential_5\"\n",
            "_________________________________________________________________\n",
            "Layer (type)                 Output Shape              Param #   \n",
            "=================================================================\n",
            "conv2d_20 (Conv2D)           (None, 198, 198, 32)      320       \n",
            "_________________________________________________________________\n",
            "average_pooling2d_20 (Averag (None, 99, 99, 32)        0         \n",
            "_________________________________________________________________\n",
            "conv2d_21 (Conv2D)           (None, 97, 97, 64)        18496     \n",
            "_________________________________________________________________\n",
            "average_pooling2d_21 (Averag (None, 48, 48, 64)        0         \n",
            "_________________________________________________________________\n",
            "conv2d_22 (Conv2D)           (None, 46, 46, 128)       73856     \n",
            "_________________________________________________________________\n",
            "average_pooling2d_22 (Averag (None, 23, 23, 128)       0         \n",
            "_________________________________________________________________\n",
            "conv2d_23 (Conv2D)           (None, 21, 21, 256)       295168    \n",
            "_________________________________________________________________\n",
            "average_pooling2d_23 (Averag (None, 10, 10, 256)       0         \n",
            "_________________________________________________________________\n",
            "global_average_pooling2d_5 ( (None, 256)               0         \n",
            "_________________________________________________________________\n",
            "dense_10 (Dense)             (None, 132)               33924     \n",
            "_________________________________________________________________\n",
            "dense_11 (Dense)             (None, 7)                 931       \n",
            "=================================================================\n",
            "Total params: 422,695\n",
            "Trainable params: 422,695\n",
            "Non-trainable params: 0\n",
            "_________________________________________________________________\n"
          ],
          "name": "stdout"
        }
      ]
    },
    {
      "cell_type": "code",
      "metadata": {
        "id": "uBG5MY8zavTn",
        "colab_type": "code",
        "colab": {}
      },
      "source": [
        "# Compiling the above created CNN architecture.\n",
        "\n",
        "final_cnn.compile(loss='categorical_crossentropy', optimizer='adam', metrics=['accuracy'])"
      ],
      "execution_count": null,
      "outputs": []
    },
    {
      "cell_type": "code",
      "metadata": {
        "id": "nWy7fRfHfu8L",
        "colab_type": "code",
        "colab": {}
      },
      "source": [
        "# Creating a TensorBoard callback object and saving it at the desired location.\n",
        "\n",
        "tensorboard = TensorBoard(log_dir=f\"/content/drive/My Drive/Age_classification_with_faces/input_output/cnn_logs/final_cnn\")"
      ],
      "execution_count": null,
      "outputs": []
    },
    {
      "cell_type": "markdown",
      "metadata": {
        "id": "3pKfqLLbS3ld",
        "colab_type": "text"
      },
      "source": [
        "I will also use ***ModelCheckpoint*** as a callback while training the final CNN model so as to be able to save the model as it continues training and improving in performance over 60 epochs."
      ]
    },
    {
      "cell_type": "code",
      "metadata": {
        "id": "X6dQDDhmfuzo",
        "colab_type": "code",
        "colab": {}
      },
      "source": [
        "# Creating a ModelCheckpoint callback object to save the model according to the value of val_accuracy.\n",
        "\n",
        "checkpoint = ModelCheckpoint(filepath=f\"/content/drive/My Drive/Age_classification_with_faces/input_output/final_cnn_model_checkpoint.h5\",\n",
        "                             monitor='val_accuracy',\n",
        "                             save_best_only=True,\n",
        "                             save_weights_only=False,\n",
        "                             verbose=1\n",
        "                            )"
      ],
      "execution_count": null,
      "outputs": []
    },
    {
      "cell_type": "code",
      "metadata": {
        "id": "hU4LJT6xYjJp",
        "colab_type": "code",
        "colab": {
          "base_uri": "https://localhost:8080/",
          "height": 1000
        },
        "outputId": "0ab09013-5d21-44d3-a728-d4bf3c8bcab9"
      },
      "source": [
        "# Fitting the above created CNN model.\n",
        "\n",
        "final_cnn_history = final_cnn.fit(train_aug_dataset,\n",
        "                                  batch_size=512,\n",
        "                                  validation_data=test_dataset,\n",
        "                                  epochs=60,\n",
        "                                  callbacks=[tensorboard, checkpoint],\n",
        "                                  shuffle=False    # shuffle=False to reduce randomness and increase reproducibility\n",
        "                                 )"
      ],
      "execution_count": null,
      "outputs": [
        {
          "output_type": "stream",
          "text": [
            "Epoch 1/60\n",
            "458/458 [==============================] - ETA: 0s - loss: 1.8206 - accuracy: 0.3104\n",
            "Epoch 00001: val_accuracy improved from -inf to 0.36910, saving model to /content/drive/My Drive/Age_Classification_with_Faces/input_output/final_cnn_model_checkpoint.h5\n",
            "458/458 [==============================] - 155s 337ms/step - loss: 1.8206 - accuracy: 0.3104 - val_loss: 1.5818 - val_accuracy: 0.3691\n",
            "Epoch 2/60\n",
            "458/458 [==============================] - ETA: 0s - loss: 1.4417 - accuracy: 0.4187\n",
            "Epoch 00002: val_accuracy improved from 0.36910 to 0.46924, saving model to /content/drive/My Drive/Age_Classification_with_Faces/input_output/final_cnn_model_checkpoint.h5\n",
            "458/458 [==============================] - 155s 338ms/step - loss: 1.4417 - accuracy: 0.4187 - val_loss: 1.2973 - val_accuracy: 0.4692\n",
            "Epoch 3/60\n",
            "458/458 [==============================] - ETA: 0s - loss: 1.2419 - accuracy: 0.4900\n",
            "Epoch 00003: val_accuracy improved from 0.46924 to 0.52061, saving model to /content/drive/My Drive/Age_Classification_with_Faces/input_output/final_cnn_model_checkpoint.h5\n",
            "458/458 [==============================] - 155s 339ms/step - loss: 1.2419 - accuracy: 0.4900 - val_loss: 1.1531 - val_accuracy: 0.5206\n",
            "Epoch 4/60\n",
            "458/458 [==============================] - ETA: 0s - loss: 1.1584 - accuracy: 0.5210\n",
            "Epoch 00004: val_accuracy improved from 0.52061 to 0.55236, saving model to /content/drive/My Drive/Age_Classification_with_Faces/input_output/final_cnn_model_checkpoint.h5\n",
            "458/458 [==============================] - 155s 338ms/step - loss: 1.1584 - accuracy: 0.5210 - val_loss: 1.0842 - val_accuracy: 0.5524\n",
            "Epoch 5/60\n",
            "458/458 [==============================] - ETA: 0s - loss: 1.0610 - accuracy: 0.5571\n",
            "Epoch 00005: val_accuracy improved from 0.55236 to 0.57824, saving model to /content/drive/My Drive/Age_Classification_with_Faces/input_output/final_cnn_model_checkpoint.h5\n",
            "458/458 [==============================] - 155s 338ms/step - loss: 1.0610 - accuracy: 0.5571 - val_loss: 1.0069 - val_accuracy: 0.5782\n",
            "Epoch 6/60\n",
            "458/458 [==============================] - ETA: 0s - loss: 0.9992 - accuracy: 0.5809\n",
            "Epoch 00006: val_accuracy improved from 0.57824 to 0.60780, saving model to /content/drive/My Drive/Age_Classification_with_Faces/input_output/final_cnn_model_checkpoint.h5\n",
            "458/458 [==============================] - 155s 338ms/step - loss: 0.9992 - accuracy: 0.5809 - val_loss: 0.9334 - val_accuracy: 0.6078\n",
            "Epoch 7/60\n",
            "458/458 [==============================] - ETA: 0s - loss: 0.9558 - accuracy: 0.5975\n",
            "Epoch 00007: val_accuracy improved from 0.60780 to 0.61826, saving model to /content/drive/My Drive/Age_Classification_with_Faces/input_output/final_cnn_model_checkpoint.h5\n",
            "458/458 [==============================] - 155s 338ms/step - loss: 0.9558 - accuracy: 0.5975 - val_loss: 0.9061 - val_accuracy: 0.6183\n",
            "Epoch 8/60\n",
            "458/458 [==============================] - ETA: 0s - loss: 0.9200 - accuracy: 0.6111\n",
            "Epoch 00008: val_accuracy did not improve from 0.61826\n",
            "458/458 [==============================] - 154s 337ms/step - loss: 0.9200 - accuracy: 0.6111 - val_loss: 0.8949 - val_accuracy: 0.6170\n",
            "Epoch 9/60\n",
            "458/458 [==============================] - ETA: 0s - loss: 0.8845 - accuracy: 0.6259\n",
            "Epoch 00009: val_accuracy improved from 0.61826 to 0.63757, saving model to /content/drive/My Drive/Age_Classification_with_Faces/input_output/final_cnn_model_checkpoint.h5\n",
            "458/458 [==============================] - 155s 338ms/step - loss: 0.8845 - accuracy: 0.6259 - val_loss: 0.8615 - val_accuracy: 0.6376\n",
            "Epoch 10/60\n",
            "458/458 [==============================] - ETA: 0s - loss: 0.8540 - accuracy: 0.6384\n",
            "Epoch 00010: val_accuracy improved from 0.63757 to 0.65459, saving model to /content/drive/My Drive/Age_Classification_with_Faces/input_output/final_cnn_model_checkpoint.h5\n",
            "458/458 [==============================] - 155s 338ms/step - loss: 0.8540 - accuracy: 0.6384 - val_loss: 0.8274 - val_accuracy: 0.6546\n",
            "Epoch 11/60\n",
            "458/458 [==============================] - ETA: 0s - loss: 0.8306 - accuracy: 0.6486\n",
            "Epoch 00011: val_accuracy improved from 0.65459 to 0.65618, saving model to /content/drive/My Drive/Age_Classification_with_Faces/input_output/final_cnn_model_checkpoint.h5\n",
            "458/458 [==============================] - 155s 338ms/step - loss: 0.8306 - accuracy: 0.6486 - val_loss: 0.8082 - val_accuracy: 0.6562\n",
            "Epoch 12/60\n",
            "458/458 [==============================] - ETA: 0s - loss: 0.8072 - accuracy: 0.6588\n",
            "Epoch 00012: val_accuracy did not improve from 0.65618\n",
            "458/458 [==============================] - 154s 337ms/step - loss: 0.8072 - accuracy: 0.6588 - val_loss: 0.8220 - val_accuracy: 0.6497\n",
            "Epoch 13/60\n",
            "458/458 [==============================] - ETA: 0s - loss: 0.7838 - accuracy: 0.6680\n",
            "Epoch 00013: val_accuracy improved from 0.65618 to 0.66743, saving model to /content/drive/My Drive/Age_Classification_with_Faces/input_output/final_cnn_model_checkpoint.h5\n",
            "458/458 [==============================] - 155s 338ms/step - loss: 0.7838 - accuracy: 0.6680 - val_loss: 0.7896 - val_accuracy: 0.6674\n",
            "Epoch 14/60\n",
            "458/458 [==============================] - ETA: 0s - loss: 0.7622 - accuracy: 0.6791\n",
            "Epoch 00014: val_accuracy did not improve from 0.66743\n",
            "458/458 [==============================] - 154s 337ms/step - loss: 0.7622 - accuracy: 0.6791 - val_loss: 0.8178 - val_accuracy: 0.6548\n",
            "Epoch 15/60\n",
            "458/458 [==============================] - ETA: 0s - loss: 0.7402 - accuracy: 0.6876\n",
            "Epoch 00015: val_accuracy improved from 0.66743 to 0.67709, saving model to /content/drive/My Drive/Age_Classification_with_Faces/input_output/final_cnn_model_checkpoint.h5\n",
            "458/458 [==============================] - 156s 340ms/step - loss: 0.7402 - accuracy: 0.6876 - val_loss: 0.7700 - val_accuracy: 0.6771\n",
            "Epoch 16/60\n",
            "458/458 [==============================] - ETA: 0s - loss: 0.7144 - accuracy: 0.6985\n",
            "Epoch 00016: val_accuracy improved from 0.67709 to 0.69620, saving model to /content/drive/My Drive/Age_Classification_with_Faces/input_output/final_cnn_model_checkpoint.h5\n",
            "458/458 [==============================] - 155s 338ms/step - loss: 0.7144 - accuracy: 0.6985 - val_loss: 0.7277 - val_accuracy: 0.6962\n",
            "Epoch 17/60\n",
            "458/458 [==============================] - ETA: 0s - loss: 0.6939 - accuracy: 0.7084\n",
            "Epoch 00017: val_accuracy improved from 0.69620 to 0.69938, saving model to /content/drive/My Drive/Age_Classification_with_Faces/input_output/final_cnn_model_checkpoint.h5\n",
            "458/458 [==============================] - 155s 338ms/step - loss: 0.6939 - accuracy: 0.7084 - val_loss: 0.7244 - val_accuracy: 0.6994\n",
            "Epoch 18/60\n",
            "458/458 [==============================] - ETA: 0s - loss: 0.6746 - accuracy: 0.7167\n",
            "Epoch 00018: val_accuracy did not improve from 0.69938\n",
            "458/458 [==============================] - 154s 337ms/step - loss: 0.6746 - accuracy: 0.7167 - val_loss: 0.7400 - val_accuracy: 0.6899\n",
            "Epoch 19/60\n",
            "458/458 [==============================] - ETA: 0s - loss: 0.6453 - accuracy: 0.7295\n",
            "Epoch 00019: val_accuracy improved from 0.69938 to 0.70615, saving model to /content/drive/My Drive/Age_Classification_with_Faces/input_output/final_cnn_model_checkpoint.h5\n",
            "458/458 [==============================] - 155s 338ms/step - loss: 0.6453 - accuracy: 0.7295 - val_loss: 0.7045 - val_accuracy: 0.7062\n",
            "Epoch 20/60\n",
            "458/458 [==============================] - ETA: 0s - loss: 0.6245 - accuracy: 0.7386\n",
            "Epoch 00020: val_accuracy improved from 0.70615 to 0.71760, saving model to /content/drive/My Drive/Age_Classification_with_Faces/input_output/final_cnn_model_checkpoint.h5\n",
            "458/458 [==============================] - 155s 338ms/step - loss: 0.6245 - accuracy: 0.7386 - val_loss: 0.6782 - val_accuracy: 0.7176\n",
            "Epoch 21/60\n",
            "458/458 [==============================] - ETA: 0s - loss: 0.6042 - accuracy: 0.7470\n",
            "Epoch 00021: val_accuracy improved from 0.71760 to 0.72596, saving model to /content/drive/My Drive/Age_Classification_with_Faces/input_output/final_cnn_model_checkpoint.h5\n",
            "458/458 [==============================] - 155s 338ms/step - loss: 0.6042 - accuracy: 0.7470 - val_loss: 0.6699 - val_accuracy: 0.7260\n",
            "Epoch 22/60\n",
            "458/458 [==============================] - ETA: 0s - loss: 0.5828 - accuracy: 0.7567\n",
            "Epoch 00022: val_accuracy improved from 0.72596 to 0.73034, saving model to /content/drive/My Drive/Age_Classification_with_Faces/input_output/final_cnn_model_checkpoint.h5\n",
            "458/458 [==============================] - 155s 338ms/step - loss: 0.5828 - accuracy: 0.7567 - val_loss: 0.6768 - val_accuracy: 0.7303\n",
            "Epoch 23/60\n",
            "458/458 [==============================] - ETA: 0s - loss: 0.5577 - accuracy: 0.7684\n",
            "Epoch 00023: val_accuracy improved from 0.73034 to 0.73173, saving model to /content/drive/My Drive/Age_Classification_with_Faces/input_output/final_cnn_model_checkpoint.h5\n",
            "458/458 [==============================] - 155s 338ms/step - loss: 0.5577 - accuracy: 0.7684 - val_loss: 0.6713 - val_accuracy: 0.7317\n",
            "Epoch 24/60\n",
            "458/458 [==============================] - ETA: 0s - loss: 0.5398 - accuracy: 0.7767\n",
            "Epoch 00024: val_accuracy improved from 0.73173 to 0.73183, saving model to /content/drive/My Drive/Age_Classification_with_Faces/input_output/final_cnn_model_checkpoint.h5\n",
            "458/458 [==============================] - 155s 338ms/step - loss: 0.5398 - accuracy: 0.7767 - val_loss: 0.6785 - val_accuracy: 0.7318\n",
            "Epoch 25/60\n",
            "458/458 [==============================] - ETA: 0s - loss: 0.5404 - accuracy: 0.7756\n",
            "Epoch 00025: val_accuracy improved from 0.73183 to 0.75533, saving model to /content/drive/My Drive/Age_Classification_with_Faces/input_output/final_cnn_model_checkpoint.h5\n",
            "458/458 [==============================] - 155s 338ms/step - loss: 0.5404 - accuracy: 0.7756 - val_loss: 0.6273 - val_accuracy: 0.7553\n",
            "Epoch 26/60\n",
            "458/458 [==============================] - ETA: 0s - loss: 0.5249 - accuracy: 0.7828\n",
            "Epoch 00026: val_accuracy did not improve from 0.75533\n",
            "458/458 [==============================] - 154s 337ms/step - loss: 0.5249 - accuracy: 0.7828 - val_loss: 0.6752 - val_accuracy: 0.7332\n",
            "Epoch 27/60\n",
            "458/458 [==============================] - ETA: 0s - loss: 0.5143 - accuracy: 0.7876\n",
            "Epoch 00027: val_accuracy improved from 0.75533 to 0.76209, saving model to /content/drive/My Drive/Age_Classification_with_Faces/input_output/final_cnn_model_checkpoint.h5\n",
            "458/458 [==============================] - 155s 338ms/step - loss: 0.5143 - accuracy: 0.7876 - val_loss: 0.6223 - val_accuracy: 0.7621\n",
            "Epoch 28/60\n",
            "458/458 [==============================] - ETA: 0s - loss: 0.4961 - accuracy: 0.7956\n",
            "Epoch 00028: val_accuracy improved from 0.76209 to 0.76379, saving model to /content/drive/My Drive/Age_Classification_with_Faces/input_output/final_cnn_model_checkpoint.h5\n",
            "458/458 [==============================] - 155s 338ms/step - loss: 0.4961 - accuracy: 0.7956 - val_loss: 0.6209 - val_accuracy: 0.7638\n",
            "Epoch 29/60\n",
            "458/458 [==============================] - ETA: 0s - loss: 0.4755 - accuracy: 0.8051\n",
            "Epoch 00029: val_accuracy improved from 0.76379 to 0.77444, saving model to /content/drive/My Drive/Age_Classification_with_Faces/input_output/final_cnn_model_checkpoint.h5\n",
            "458/458 [==============================] - 155s 338ms/step - loss: 0.4755 - accuracy: 0.8051 - val_loss: 0.6001 - val_accuracy: 0.7744\n",
            "Epoch 30/60\n",
            "458/458 [==============================] - ETA: 0s - loss: 0.4547 - accuracy: 0.8142\n",
            "Epoch 00030: val_accuracy improved from 0.77444 to 0.77971, saving model to /content/drive/My Drive/Age_Classification_with_Faces/input_output/final_cnn_model_checkpoint.h5\n",
            "458/458 [==============================] - 155s 338ms/step - loss: 0.4547 - accuracy: 0.8142 - val_loss: 0.5960 - val_accuracy: 0.7797\n",
            "Epoch 31/60\n",
            "458/458 [==============================] - ETA: 0s - loss: 0.4423 - accuracy: 0.8186\n",
            "Epoch 00031: val_accuracy did not improve from 0.77971\n",
            "458/458 [==============================] - 154s 337ms/step - loss: 0.4423 - accuracy: 0.8186 - val_loss: 0.6253 - val_accuracy: 0.7693\n",
            "Epoch 32/60\n",
            "458/458 [==============================] - ETA: 0s - loss: 0.4426 - accuracy: 0.8179\n",
            "Epoch 00032: val_accuracy did not improve from 0.77971\n",
            "458/458 [==============================] - 155s 338ms/step - loss: 0.4426 - accuracy: 0.8179 - val_loss: 0.6065 - val_accuracy: 0.7693\n",
            "Epoch 33/60\n",
            "458/458 [==============================] - ETA: 0s - loss: 0.4342 - accuracy: 0.8215\n",
            "Epoch 00033: val_accuracy did not improve from 0.77971\n",
            "458/458 [==============================] - 155s 338ms/step - loss: 0.4342 - accuracy: 0.8215 - val_loss: 0.6106 - val_accuracy: 0.7775\n",
            "Epoch 34/60\n",
            "458/458 [==============================] - ETA: 0s - loss: 0.4153 - accuracy: 0.8302\n",
            "Epoch 00034: val_accuracy improved from 0.77971 to 0.78569, saving model to /content/drive/My Drive/Age_Classification_with_Faces/input_output/final_cnn_model_checkpoint.h5\n",
            "458/458 [==============================] - 155s 339ms/step - loss: 0.4153 - accuracy: 0.8302 - val_loss: 0.5890 - val_accuracy: 0.7857\n",
            "Epoch 35/60\n",
            "458/458 [==============================] - ETA: 0s - loss: 0.3980 - accuracy: 0.8379\n",
            "Epoch 00035: val_accuracy did not improve from 0.78569\n",
            "458/458 [==============================] - 155s 338ms/step - loss: 0.3980 - accuracy: 0.8379 - val_loss: 0.6384 - val_accuracy: 0.7754\n",
            "Epoch 36/60\n",
            "458/458 [==============================] - ETA: 0s - loss: 0.3858 - accuracy: 0.8435\n",
            "Epoch 00036: val_accuracy did not improve from 0.78569\n",
            "458/458 [==============================] - 155s 338ms/step - loss: 0.3858 - accuracy: 0.8435 - val_loss: 0.6297 - val_accuracy: 0.7797\n",
            "Epoch 37/60\n",
            "458/458 [==============================] - ETA: 0s - loss: 0.3731 - accuracy: 0.8484\n",
            "Epoch 00037: val_accuracy improved from 0.78569 to 0.79554, saving model to /content/drive/My Drive/Age_Classification_with_Faces/input_output/final_cnn_model_checkpoint.h5\n",
            "458/458 [==============================] - 155s 339ms/step - loss: 0.3731 - accuracy: 0.8484 - val_loss: 0.5784 - val_accuracy: 0.7955\n",
            "Epoch 38/60\n",
            "458/458 [==============================] - ETA: 0s - loss: 0.3567 - accuracy: 0.8558\n",
            "Epoch 00038: val_accuracy did not improve from 0.79554\n",
            "458/458 [==============================] - 155s 338ms/step - loss: 0.3567 - accuracy: 0.8558 - val_loss: 0.6836 - val_accuracy: 0.7700\n",
            "Epoch 39/60\n",
            "458/458 [==============================] - ETA: 0s - loss: 0.3523 - accuracy: 0.8578\n",
            "Epoch 00039: val_accuracy did not improve from 0.79554\n",
            "458/458 [==============================] - 155s 338ms/step - loss: 0.3523 - accuracy: 0.8578 - val_loss: 0.6637 - val_accuracy: 0.7729\n",
            "Epoch 40/60\n",
            "458/458 [==============================] - ETA: 0s - loss: 0.3463 - accuracy: 0.8607\n",
            "Epoch 00040: val_accuracy improved from 0.79554 to 0.79843, saving model to /content/drive/My Drive/Age_Classification_with_Faces/input_output/final_cnn_model_checkpoint.h5\n",
            "458/458 [==============================] - 155s 340ms/step - loss: 0.3463 - accuracy: 0.8607 - val_loss: 0.5998 - val_accuracy: 0.7984\n",
            "Epoch 41/60\n",
            "458/458 [==============================] - ETA: 0s - loss: 0.3501 - accuracy: 0.8580\n",
            "Epoch 00041: val_accuracy improved from 0.79843 to 0.81077, saving model to /content/drive/My Drive/Age_Classification_with_Faces/input_output/final_cnn_model_checkpoint.h5\n",
            "458/458 [==============================] - 156s 340ms/step - loss: 0.3501 - accuracy: 0.8580 - val_loss: 0.5789 - val_accuracy: 0.8108\n",
            "Epoch 42/60\n",
            "458/458 [==============================] - ETA: 0s - loss: 0.3487 - accuracy: 0.8579\n",
            "Epoch 00042: val_accuracy improved from 0.81077 to 0.81137, saving model to /content/drive/My Drive/Age_Classification_with_Faces/input_output/final_cnn_model_checkpoint.h5\n",
            "458/458 [==============================] - 155s 339ms/step - loss: 0.3487 - accuracy: 0.8579 - val_loss: 0.5877 - val_accuracy: 0.8114\n",
            "Epoch 43/60\n",
            "458/458 [==============================] - ETA: 0s - loss: 0.3291 - accuracy: 0.8674\n",
            "Epoch 00043: val_accuracy did not improve from 0.81137\n",
            "458/458 [==============================] - 155s 339ms/step - loss: 0.3291 - accuracy: 0.8674 - val_loss: 0.5863 - val_accuracy: 0.8101\n",
            "Epoch 44/60\n",
            "458/458 [==============================] - ETA: 0s - loss: 0.3355 - accuracy: 0.8646\n",
            "Epoch 00044: val_accuracy did not improve from 0.81137\n",
            "458/458 [==============================] - 155s 338ms/step - loss: 0.3355 - accuracy: 0.8646 - val_loss: 0.6105 - val_accuracy: 0.8038\n",
            "Epoch 45/60\n",
            "458/458 [==============================] - ETA: 0s - loss: 0.3218 - accuracy: 0.8711\n",
            "Epoch 00045: val_accuracy did not improve from 0.81137\n",
            "458/458 [==============================] - 155s 338ms/step - loss: 0.3218 - accuracy: 0.8711 - val_loss: 0.6029 - val_accuracy: 0.8103\n",
            "Epoch 46/60\n",
            "458/458 [==============================] - ETA: 0s - loss: 0.2987 - accuracy: 0.8805\n",
            "Epoch 00046: val_accuracy did not improve from 0.81137\n",
            "458/458 [==============================] - 155s 338ms/step - loss: 0.2987 - accuracy: 0.8805 - val_loss: 0.6362 - val_accuracy: 0.7967\n",
            "Epoch 47/60\n",
            "458/458 [==============================] - ETA: 0s - loss: 0.2854 - accuracy: 0.8858\n",
            "Epoch 00047: val_accuracy improved from 0.81137 to 0.81286, saving model to /content/drive/My Drive/Age_Classification_with_Faces/input_output/final_cnn_model_checkpoint.h5\n",
            "458/458 [==============================] - 155s 339ms/step - loss: 0.2854 - accuracy: 0.8858 - val_loss: 0.6161 - val_accuracy: 0.8129\n",
            "Epoch 48/60\n",
            "458/458 [==============================] - ETA: 0s - loss: 0.2805 - accuracy: 0.8882\n",
            "Epoch 00048: val_accuracy did not improve from 0.81286\n",
            "458/458 [==============================] - 154s 337ms/step - loss: 0.2805 - accuracy: 0.8882 - val_loss: 0.6584 - val_accuracy: 0.8066\n",
            "Epoch 49/60\n",
            "458/458 [==============================] - ETA: 0s - loss: 0.2844 - accuracy: 0.8863\n",
            "Epoch 00049: val_accuracy did not improve from 0.81286\n",
            "458/458 [==============================] - 155s 337ms/step - loss: 0.2844 - accuracy: 0.8863 - val_loss: 0.6512 - val_accuracy: 0.8004\n",
            "Epoch 50/60\n",
            "458/458 [==============================] - ETA: 0s - loss: 0.2833 - accuracy: 0.8871\n",
            "Epoch 00050: val_accuracy did not improve from 0.81286\n",
            "458/458 [==============================] - 155s 338ms/step - loss: 0.2833 - accuracy: 0.8871 - val_loss: 0.6462 - val_accuracy: 0.8074\n",
            "Epoch 51/60\n",
            "458/458 [==============================] - ETA: 0s - loss: 0.2680 - accuracy: 0.8930\n",
            "Epoch 00051: val_accuracy did not improve from 0.81286\n",
            "458/458 [==============================] - 155s 338ms/step - loss: 0.2680 - accuracy: 0.8930 - val_loss: 0.7077 - val_accuracy: 0.7943\n",
            "Epoch 52/60\n",
            "458/458 [==============================] - ETA: 0s - loss: 0.2516 - accuracy: 0.8999\n",
            "Epoch 00052: val_accuracy improved from 0.81286 to 0.82092, saving model to /content/drive/My Drive/Age_Classification_with_Faces/input_output/final_cnn_model_checkpoint.h5\n",
            "458/458 [==============================] - 156s 340ms/step - loss: 0.2516 - accuracy: 0.8999 - val_loss: 0.6243 - val_accuracy: 0.8209\n",
            "Epoch 53/60\n",
            "458/458 [==============================] - ETA: 0s - loss: 0.2418 - accuracy: 0.9041\n",
            "Epoch 00053: val_accuracy improved from 0.82092 to 0.82321, saving model to /content/drive/My Drive/Age_Classification_with_Faces/input_output/final_cnn_model_checkpoint.h5\n",
            "458/458 [==============================] - 156s 340ms/step - loss: 0.2418 - accuracy: 0.9041 - val_loss: 0.6437 - val_accuracy: 0.8232\n",
            "Epoch 54/60\n",
            "458/458 [==============================] - ETA: 0s - loss: 0.2430 - accuracy: 0.9044\n",
            "Epoch 00054: val_accuracy improved from 0.82321 to 0.82968, saving model to /content/drive/My Drive/Age_Classification_with_Faces/input_output/final_cnn_model_checkpoint.h5\n",
            "458/458 [==============================] - 156s 340ms/step - loss: 0.2430 - accuracy: 0.9044 - val_loss: 0.6052 - val_accuracy: 0.8297\n",
            "Epoch 55/60\n",
            "458/458 [==============================] - ETA: 0s - loss: 0.2637 - accuracy: 0.8944\n",
            "Epoch 00055: val_accuracy did not improve from 0.82968\n",
            "458/458 [==============================] - 155s 339ms/step - loss: 0.2637 - accuracy: 0.8944 - val_loss: 1.0182 - val_accuracy: 0.7404\n",
            "Epoch 56/60\n",
            "458/458 [==============================] - ETA: 0s - loss: 0.2636 - accuracy: 0.8951\n",
            "Epoch 00056: val_accuracy did not improve from 0.82968\n",
            "458/458 [==============================] - 155s 338ms/step - loss: 0.2636 - accuracy: 0.8951 - val_loss: 0.9065 - val_accuracy: 0.7603\n",
            "Epoch 57/60\n",
            "458/458 [==============================] - ETA: 0s - loss: 0.2506 - accuracy: 0.9007\n",
            "Epoch 00057: val_accuracy did not improve from 0.82968\n",
            "458/458 [==============================] - 155s 338ms/step - loss: 0.2506 - accuracy: 0.9007 - val_loss: 0.6251 - val_accuracy: 0.8254\n",
            "Epoch 58/60\n",
            "458/458 [==============================] - ETA: 0s - loss: 0.2401 - accuracy: 0.9042\n",
            "Epoch 00058: val_accuracy did not improve from 0.82968\n",
            "458/458 [==============================] - 155s 338ms/step - loss: 0.2401 - accuracy: 0.9042 - val_loss: 0.6664 - val_accuracy: 0.8164\n",
            "Epoch 59/60\n",
            "458/458 [==============================] - ETA: 0s - loss: 0.2337 - accuracy: 0.9072\n",
            "Epoch 00059: val_accuracy did not improve from 0.82968\n",
            "458/458 [==============================] - 155s 338ms/step - loss: 0.2337 - accuracy: 0.9072 - val_loss: 0.7258 - val_accuracy: 0.8049\n",
            "Epoch 60/60\n",
            "458/458 [==============================] - ETA: 0s - loss: 0.2259 - accuracy: 0.9109\n",
            "Epoch 00060: val_accuracy did not improve from 0.82968\n",
            "458/458 [==============================] - 155s 338ms/step - loss: 0.2259 - accuracy: 0.9109 - val_loss: 0.7758 - val_accuracy: 0.7977\n"
          ],
          "name": "stdout"
        }
      ]
    },
    {
      "cell_type": "code",
      "metadata": {
        "id": "RP7vxY_6YjCM",
        "colab_type": "code",
        "colab": {}
      },
      "source": [
        "# Checking the train and test loss and accuracy values from the neural network above.\n",
        "\n",
        "train_loss = final_cnn_history.history['loss']\n",
        "test_loss = final_cnn_history.history['val_loss']\n",
        "train_accuracy = final_cnn_history.history['accuracy']\n",
        "test_accuracy = final_cnn_history.history['val_accuracy']"
      ],
      "execution_count": null,
      "outputs": []
    },
    {
      "cell_type": "code",
      "metadata": {
        "id": "COkki9JUU8kf",
        "colab_type": "code",
        "colab": {
          "base_uri": "https://localhost:8080/",
          "height": 470
        },
        "outputId": "c4217a95-784c-42e6-c052-7c4f0e4aa447"
      },
      "source": [
        "# Plotting a line chart to visualize the loss and accuracy values by epochs.\n",
        "\n",
        "fig, ax = plt.subplots(ncols=2, figsize=(15,7))\n",
        "\n",
        "ax = ax.ravel()\n",
        "\n",
        "ax[0].plot(train_loss, label='Train Loss', color='royalblue', marker='o', markersize=5)\n",
        "ax[0].plot(test_loss, label='Test Loss', color = 'orangered', marker='o', markersize=5)\n",
        "\n",
        "ax[0].set_xlabel('Epochs', fontsize=14)\n",
        "ax[0].set_ylabel('Categorical Crossentropy', fontsize=14)\n",
        "\n",
        "ax[0].legend(fontsize=14)\n",
        "ax[0].tick_params(axis='both', labelsize=12)\n",
        "\n",
        "ax[1].plot(train_accuracy, label='Train Accuracy', color='royalblue', marker='o', markersize=5)\n",
        "ax[1].plot(test_accuracy, label='Test Accuracy', color='orangered', marker='o', markersize=5)\n",
        "\n",
        "ax[1].set_xlabel('Epochs', fontsize=14)\n",
        "ax[1].set_ylabel('Accuracy', fontsize=14)\n",
        "\n",
        "ax[1].legend(fontsize=14)\n",
        "ax[1].tick_params(axis='both', labelsize=12)\n",
        "\n",
        "fig.suptitle(x=0.5, y=0.92, t=\"Lineplots showing loss and accuracy of CNN model by epochs\", fontsize=16)\n",
        "\n",
        "# Exporting plot image in PNG format.\n",
        "plt.savefig('/content/drive/My Drive/Age_classification_with_faces/plot_images/final_cnn_loss_accuracy.png', bbox_inches='tight');"
      ],
      "execution_count": null,
      "outputs": [
        {
          "output_type": "display_data",
          "data": {
            "image/png": "[encoded data removed]",
            "text/plain": [
              "<Figure size 1080x504 with 2 Axes>"
            ]
          },
          "metadata": {
            "tags": [],
            "needs_background": "light"
          }
        }
      ]
    },
    {
      "cell_type": "code",
      "metadata": {
        "id": "F75NJtVJU8oD",
        "colab_type": "code",
        "colab": {
          "base_uri": "https://localhost:8080/",
          "height": 34
        },
        "outputId": "50e05ca0-4673-4f29-e2b2-f348504c73a8"
      },
      "source": [
        "# Evaluating the model on test dataset.\n",
        "\n",
        "final_cnn_score = final_cnn.evaluate(test_dataset, verbose=1)"
      ],
      "execution_count": null,
      "outputs": [
        {
          "output_type": "stream",
          "text": [
            "20/20 [==============================] - 4s 222ms/step - loss: 0.7758 - accuracy: 0.7977\n"
          ],
          "name": "stdout"
        }
      ]
    },
    {
      "cell_type": "code",
      "metadata": {
        "id": "h5JdZYFMU8s0",
        "colab_type": "code",
        "colab": {
          "base_uri": "https://localhost:8080/",
          "height": 51
        },
        "outputId": "dd98d3e6-58a9-46cb-f676-be4ad91fe5c2"
      },
      "source": [
        "# Printing the relevant score summary.\n",
        "\n",
        "final_cnn_labels = final_cnn.metrics_names\n",
        "print(f'CNN model {final_cnn_labels[0]} \\t\\t= {round(final_cnn_score[0], 3)}')\n",
        "print(f'CNN model {final_cnn_labels[1]} \\t= {round(final_cnn_score[1], 3)}')"
      ],
      "execution_count": null,
      "outputs": [
        {
          "output_type": "stream",
          "text": [
            "CNN model loss \t\t= 0.776\n",
            "CNN model accuracy \t= 0.798\n"
          ],
          "name": "stdout"
        }
      ]
    },
    {
      "cell_type": "code",
      "metadata": {
        "id": "fatkGFAkrjCF",
        "colab_type": "code",
        "colab": {}
      },
      "source": [
        "# Saving the model as a h5 file for possible use later.\n",
        "\n",
        "final_cnn.save(f\"/content/drive/My Drive/Age_classification_with_faces/input_output/final_cnn_model_acc_{round(final_cnn_score[1], 3)}.h5\", save_format='h5')"
      ],
      "execution_count": null,
      "outputs": []
    },
    {
      "cell_type": "code",
      "metadata": {
        "id": "R1e1uYqHU8wx",
        "colab_type": "code",
        "colab": {}
      },
      "source": [
        "# Generating predictions from the model above.\n",
        "\n",
        "final_cnn_pred = final_cnn.predict(test_dataset)\n",
        "final_cnn_pred = final_cnn_pred.argmax(axis=-1)"
      ],
      "execution_count": null,
      "outputs": []
    },
    {
      "cell_type": "code",
      "metadata": {
        "id": "EpdV9V1EU81O",
        "colab_type": "code",
        "colab": {
          "base_uri": "https://localhost:8080/",
          "height": 34
        },
        "outputId": "e47ae1fc-5f00-46aa-b88d-701fa7c6f994"
      },
      "source": [
        "len(final_cnn_pred)"
      ],
      "execution_count": null,
      "outputs": [
        {
          "output_type": "execute_result",
          "data": {
            "text/plain": [
              "10046"
            ]
          },
          "metadata": {
            "tags": []
          },
          "execution_count": 93
        }
      ]
    },
    {
      "cell_type": "code",
      "metadata": {
        "id": "aYLmUsxcU85i",
        "colab_type": "code",
        "colab": {
          "base_uri": "https://localhost:8080/",
          "height": 34
        },
        "outputId": "920af7b3-1ced-4cfd-c698-1a1f875d176f"
      },
      "source": [
        "len(test_labels_list)"
      ],
      "execution_count": null,
      "outputs": [
        {
          "output_type": "execute_result",
          "data": {
            "text/plain": [
              "10046"
            ]
          },
          "metadata": {
            "tags": []
          },
          "execution_count": 94
        }
      ]
    },
    {
      "cell_type": "code",
      "metadata": {
        "id": "T6hAs7SlU9Zi",
        "colab_type": "code",
        "colab": {
          "base_uri": "https://localhost:8080/",
          "height": 136
        },
        "outputId": "b1bf5e75-225d-478d-b171-adee57e827f7"
      },
      "source": [
        "# Generating a confusion matrix based on above predictions.\n",
        "\n",
        "conf_mat = confusion_matrix(test_labels_list, final_cnn_pred)\n",
        "conf_mat"
      ],
      "execution_count": null,
      "outputs": [
        {
          "output_type": "execute_result",
          "data": {
            "text/plain": [
              "array([[ 939,   14,    0,    0,    0,    2,    3],\n",
              "       [  74,  760,    6,    3,    2,    0,    0],\n",
              "       [   3,  147,  722,   24,   41,    3,    1],\n",
              "       [  10,   28,  135, 1153,  652,   26,    3],\n",
              "       [   5,   32,   51,  146, 2414,  133,   26],\n",
              "       [   1,   13,    9,   11,  192, 1280,  173],\n",
              "       [   0,    1,    0,    2,   11,   49,  746]])"
            ]
          },
          "metadata": {
            "tags": []
          },
          "execution_count": 95
        }
      ]
    },
    {
      "cell_type": "code",
      "metadata": {
        "id": "uACH8n6fU95F",
        "colab_type": "code",
        "colab": {}
      },
      "source": [
        "# Defining a function to plot the confusion matrix in a grid for easier visualization.\n",
        "\n",
        "def plot_confusion_matrix(cm, classes, normalize=False, title='Confusion Matrix', export_as='confusion_matrix', cmap=plt.cm.Blues):\n",
        "    \"\"\"\n",
        "    This function prints and plots the confusion matrix.\n",
        "    Normalization can be applied by setting `normalize=True`.\n",
        "    \"\"\"\n",
        "    if normalize:\n",
        "        cm = cm.astype('float') / cm.sum(axis=1)[:, np.newaxis]\n",
        "        print(\"Normalized confusion matrix\")\n",
        "    else:\n",
        "        print('Confusion matrix, without normalization')\n",
        "\n",
        "    # print(cm)\n",
        "\n",
        "    plt.imshow(cm, interpolation='nearest', cmap=cmap)\n",
        "    plt.title(title, fontsize=16)\n",
        "    plt.colorbar()\n",
        "    tick_marks = np.arange(len(classes))\n",
        "    plt.xticks(tick_marks, classes, rotation=45)\n",
        "    plt.yticks(tick_marks, classes)\n",
        "\n",
        "    fmt = '.2f' if normalize else 'd'\n",
        "    thresh = cm.max() / 2.\n",
        "    for i, j in itertools.product(range(cm.shape[0]), range(cm.shape[1])):\n",
        "        plt.text(j, i, format(cm[i, j], fmt), horizontalalignment=\"center\", color=\"white\" if cm[i, j] > thresh else \"black\")\n",
        "\n",
        "    plt.tight_layout()\n",
        "    plt.ylabel('True labels', fontsize=14)\n",
        "    plt.xlabel('Predicted labels', fontsize=14)\n",
        "\n",
        "    # Exporting plot image in PNG format.\n",
        "    plt.savefig(f'/content/drive/My Drive/Age_classification_with_faces/plot_images/{export_as}.png', bbox_inches='tight');"
      ],
      "execution_count": null,
      "outputs": []
    },
    {
      "cell_type": "code",
      "metadata": {
        "id": "J1XROLD_U91Z",
        "colab_type": "code",
        "colab": {
          "base_uri": "https://localhost:8080/",
          "height": 620
        },
        "outputId": "5f3515d0-b968-4360-82dc-8566d18b6bcf"
      },
      "source": [
        "# Plotting the confusion matrix using the function defined above.\n",
        "\n",
        "cm_plot_labels = ['1-2', '3-9', '10-20', '21-27', '28-45', '46-65', '66-116']\n",
        "\n",
        "plt.figure(figsize=(16,8))\n",
        "plot_confusion_matrix(conf_mat, cm_plot_labels, normalize=True,\n",
        "                      title=\"Confusion Matrix based on predictions from CNN model\",\n",
        "                      export_as=\"final_cnn_conf_mat_norm\"\n",
        "                     )\n",
        "\n",
        "plt.show()"
      ],
      "execution_count": null,
      "outputs": [
        {
          "output_type": "stream",
          "text": [
            "Normalized confusion matrix\n"
          ],
          "name": "stdout"
        },
        {
          "output_type": "display_data",
          "data": {
            "image/png": "[encoded data removed]",
            "text/plain": [
              "<Figure size 1152x576 with 2 Axes>"
            ]
          },
          "metadata": {
            "tags": [],
            "needs_background": "light"
          }
        }
      ]
    },
    {
      "cell_type": "code",
      "metadata": {
        "id": "b8SX7GwcU9vz",
        "colab_type": "code",
        "colab": {
          "base_uri": "https://localhost:8080/",
          "height": 620
        },
        "outputId": "47807da8-fddb-4753-e465-cc4d08d99d96"
      },
      "source": [
        "# Plotting the confusion matrix using the function defined above.\n",
        "\n",
        "cm_plot_labels = ['1-2', '3-9', '10-20', '21-27', '28-45', '46-65', '66-116']\n",
        "\n",
        "plt.figure(figsize=(16,8))\n",
        "plot_confusion_matrix(conf_mat, cm_plot_labels, normalize=False,\n",
        "                      title=\"Confusion Matrix based on predictions from CNN model\",\n",
        "                      export_as=\"final_cnn_conf_mat\"\n",
        "                     )\n",
        "\n",
        "plt.show()"
      ],
      "execution_count": null,
      "outputs": [
        {
          "output_type": "stream",
          "text": [
            "Confusion matrix, without normalization\n"
          ],
          "name": "stdout"
        },
        {
          "output_type": "display_data",
          "data": {
            "image/png": "[encoded data removed]",
            "text/plain": [
              "<Figure size 1152x576 with 2 Axes>"
            ]
          },
          "metadata": {
            "tags": [],
            "needs_background": "light"
          }
        }
      ]
    },
    {
      "cell_type": "markdown",
      "metadata": {
        "id": "PVCOciqHTgYF",
        "colab_type": "text"
      },
      "source": [
        "As seen in the lineplots above, the **model peaked in performance at epoch 54 of 60**, with **training accuracy = 90.44% and testing accuracy = 82.97%** The accuracy scores improved significantly, although with a **slight degree of over-fit, which may still be acceptable**. The normalized confusion matrix above also shows a **significant reduction in the misclassification for the middle age-ranges of 26–65**.\n"
      ]
    },
    {
      "cell_type": "markdown",
      "metadata": {
        "id": "6eHgY5EOez2i",
        "colab_type": "text"
      },
      "source": [
        "## Deep Learning: Summary and Limitations"
      ]
    },
    {
      "cell_type": "markdown",
      "metadata": {
        "id": "3cpS3994e9GM",
        "colab_type": "text"
      },
      "source": [
        "Below is the **final summary of all the CNN models built so far**.\n",
        "\n",
        "![summary_table_final.PNG](https://drive.google.com/uc?export=view&id=1VzZygldRJen6HgRR27m9J_VKI2bKD1IA)\n",
        "\n",
        "As with any data science workflow, the deep learning approach presented above does have its own limitations as well. For instance, the original datasets used in this project only had about 33,000 images when combined together. Even though the training dataset was augmented to increase it's size from 23,440 images to 234,400 images, there is always a possibility that an **even larger training dataset with more variation in the images would have resulted in even better results**. Another approach to this project could be to use **Transfer Learning (using the architecture and layer weights from a pre-trained neural network)** instead of creating and training a neural network from scratch.\n",
        "\n",
        "Compared to the **traditional Machine Learning** methodology and approach however, the CNN model performance is significantly better (**results summary shown below**).\n",
        "\n",
        "![summary_table_traditional_ml.png](https://drive.google.com/uc?export=view&id=1kc7idDm-1QmSTfdmk592NpMXWPU8moGu)"
      ]
    }
  ]
}
